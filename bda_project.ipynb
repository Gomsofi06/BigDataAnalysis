{
 "cells": [
  {
   "cell_type": "code",
   "execution_count": 1,
   "metadata": {},
   "outputs": [],
   "source": [
    "import pandas as pd\n",
    "import numpy as np\n",
    "import mne\n",
    "import os\n",
    "import re\n",
    "\n",
    "def load_and_label_eeg(patient, file_numbers, pre_seizure_duration=100):\n",
    "    \"\"\"\n",
    "    Carrega e processa arquivos EEG EDF para um paciente específico.\n",
    "\n",
    "    Args:\n",
    "        patient (str): Número do paciente (ex: \"08\").\n",
    "        file_numbers (list): Lista de números dos arquivos a carregar (ex: [\"02\", \"05\"]).\n",
    "        pre_seizure_duration (int): Tempo antes da crise para marcar como 1 (ajustável).\n",
    "\n",
    "    Returns:\n",
    "        pd.DataFrame: DataFrame com os dados EEG e labels aplicados.\n",
    "    \"\"\"\n",
    "\n",
    "    # Lista para armazenar DataFrames\n",
    "    dfs = []\n",
    "\n",
    "    # Carregar arquivos EDF\n",
    "    for file_num in file_numbers:\n",
    "        file_name = f\"chb{patient}_{file_num}\"  # Nome do arquivo sem extensão\n",
    "        file_path = f\"data/{file_name}.edf\"  # Caminho completo\n",
    "\n",
    "        if os.path.exists(file_path):  \n",
    "            print(f\"Loading {file_path}...\")\n",
    "            \n",
    "            raw = mne.io.read_raw_edf(file_path, preload=True)\n",
    "            data, times = raw[:]\n",
    "            \n",
    "            df_temp = pd.DataFrame(data.T, columns=raw.ch_names)\n",
    "            df_temp[\"time\"] = times  \n",
    "            df_temp[\"file\"] = file_name  # Adiciona sem a extensão .edf\n",
    "            \n",
    "            dfs.append(df_temp)\n",
    "        else:\n",
    "            print(f\"File {file_path} not found. Skipping...\")\n",
    "\n",
    "    # Criar DataFrame final\n",
    "    if not dfs:\n",
    "        print(\"Nenhum arquivo carregado. Retornando DataFrame vazio.\")\n",
    "        return pd.DataFrame()\n",
    "\n",
    "    df = pd.concat(dfs, ignore_index=True)\n",
    "    \n",
    "    # Inicializar coluna de labels\n",
    "    df[\"label\"] = 0  \n",
    "\n",
    "    # Ler resumo\n",
    "    summary_file = f\"data/chb{patient}-summary.txt\"\n",
    "\n",
    "    if not os.path.exists(summary_file):\n",
    "        print(f\"Summary file {summary_file} not found. Returning DataFrame without labels.\")\n",
    "        return df\n",
    "\n",
    "    with open(summary_file, \"r\") as f:\n",
    "        summary_text = f.read()\n",
    "\n",
    "    # Encontrar arquivos e crises no resumo\n",
    "    file_seizures = {}\n",
    "    seizure_pattern = re.compile(rf\"File Name: (chb{patient}_\\d+)\\.edf.*?Number of Seizures in File: (\\d+)(.*?)\\n\\n\", re.DOTALL)\n",
    "\n",
    "    for file, num_seizures, details in seizure_pattern.findall(summary_text):\n",
    "        num_seizures = int(num_seizures)\n",
    "        \n",
    "        if num_seizures > 0:  \n",
    "            seizure_times = re.findall(r\"Seizure \\d+ Start Time: (\\d+) seconds\\nSeizure \\d+ End Time: (\\d+) seconds\", details)\n",
    "            file_seizures[file] = [(int(start), int(end)) for start, end in seizure_times]\n",
    "\n",
    "    # Aplicar labels se houver crises\n",
    "    for file, seizures in file_seizures.items():\n",
    "        for start, end in seizures:\n",
    "            df.loc[(df[\"file\"] == file) & (df[\"time\"] >= start - pre_seizure_duration) & (df[\"time\"] < start), \"label\"] = 1\n",
    "            df.loc[(df[\"file\"] == file) & (df[\"time\"] >= start) & (df[\"time\"] <= end), \"label\"] = 2\n",
    "\n",
    "    return df\n"
   ]
  },
  {
   "cell_type": "code",
   "execution_count": 3,
   "metadata": {},
   "outputs": [
    {
     "name": "stdout",
     "output_type": "stream",
     "text": [
      "Loading data/chb08_02.edf...\n",
      "Extracting EDF parameters from /Users/sofiagomes/Documents/NOVA IMS/Big Data Analytics/BigDataAnalysis/data/chb08_02.edf...\n",
      "EDF file detected\n",
      "Setting channel info structure...\n",
      "Creating raw.info structure...\n",
      "Reading 0 ... 921599  =      0.000 ...  3599.996 secs...\n"
     ]
    },
    {
     "name": "stderr",
     "output_type": "stream",
     "text": [
      "/var/folders/9b/jd3m9d1938sb3269cy5k5rzh0000gn/T/ipykernel_26682/3670794891.py:31: RuntimeWarning: Channel names are not unique, found duplicates for: {'T8-P8'}. Applying running numbers for duplicates.\n",
      "  raw = mne.io.read_raw_edf(file_path, preload=True)\n"
     ]
    },
    {
     "name": "stdout",
     "output_type": "stream",
     "text": [
      "Loading data/chb08_05.edf...\n",
      "Extracting EDF parameters from /Users/sofiagomes/Documents/NOVA IMS/Big Data Analytics/BigDataAnalysis/data/chb08_05.edf...\n",
      "EDF file detected\n",
      "Setting channel info structure...\n",
      "Creating raw.info structure...\n",
      "Reading 0 ... 921599  =      0.000 ...  3599.996 secs...\n"
     ]
    },
    {
     "name": "stderr",
     "output_type": "stream",
     "text": [
      "/var/folders/9b/jd3m9d1938sb3269cy5k5rzh0000gn/T/ipykernel_26682/3670794891.py:31: RuntimeWarning: Channel names are not unique, found duplicates for: {'T8-P8'}. Applying running numbers for duplicates.\n",
      "  raw = mne.io.read_raw_edf(file_path, preload=True)\n"
     ]
    },
    {
     "name": "stdout",
     "output_type": "stream",
     "text": [
      "Loading data/chb08_11.edf...\n",
      "Extracting EDF parameters from /Users/sofiagomes/Documents/NOVA IMS/Big Data Analytics/BigDataAnalysis/data/chb08_11.edf...\n",
      "EDF file detected\n",
      "Setting channel info structure...\n",
      "Creating raw.info structure...\n",
      "Reading 0 ... 921599  =      0.000 ...  3599.996 secs...\n"
     ]
    },
    {
     "name": "stderr",
     "output_type": "stream",
     "text": [
      "/var/folders/9b/jd3m9d1938sb3269cy5k5rzh0000gn/T/ipykernel_26682/3670794891.py:31: RuntimeWarning: Channel names are not unique, found duplicates for: {'T8-P8'}. Applying running numbers for duplicates.\n",
      "  raw = mne.io.read_raw_edf(file_path, preload=True)\n"
     ]
    },
    {
     "name": "stdout",
     "output_type": "stream",
     "text": [
      "Loading data/chb08_13.edf...\n",
      "Extracting EDF parameters from /Users/sofiagomes/Documents/NOVA IMS/Big Data Analytics/BigDataAnalysis/data/chb08_13.edf...\n",
      "EDF file detected\n",
      "Setting channel info structure...\n",
      "Creating raw.info structure...\n",
      "Reading 0 ... 921599  =      0.000 ...  3599.996 secs...\n"
     ]
    },
    {
     "name": "stderr",
     "output_type": "stream",
     "text": [
      "/var/folders/9b/jd3m9d1938sb3269cy5k5rzh0000gn/T/ipykernel_26682/3670794891.py:31: RuntimeWarning: Channel names are not unique, found duplicates for: {'T8-P8'}. Applying running numbers for duplicates.\n",
      "  raw = mne.io.read_raw_edf(file_path, preload=True)\n"
     ]
    },
    {
     "name": "stdout",
     "output_type": "stream",
     "text": [
      "Loading data/chb08_21.edf...\n",
      "Extracting EDF parameters from /Users/sofiagomes/Documents/NOVA IMS/Big Data Analytics/BigDataAnalysis/data/chb08_21.edf...\n",
      "EDF file detected\n",
      "Setting channel info structure...\n",
      "Creating raw.info structure...\n",
      "Reading 0 ... 921599  =      0.000 ...  3599.996 secs...\n"
     ]
    },
    {
     "name": "stderr",
     "output_type": "stream",
     "text": [
      "/var/folders/9b/jd3m9d1938sb3269cy5k5rzh0000gn/T/ipykernel_26682/3670794891.py:31: RuntimeWarning: Channel names are not unique, found duplicates for: {'T8-P8'}. Applying running numbers for duplicates.\n",
      "  raw = mne.io.read_raw_edf(file_path, preload=True)\n"
     ]
    }
   ],
   "source": [
    "# Parâmetros desejados\n",
    "patient = \"08\"\n",
    "file_numbers = [\"02\", \"05\", \"11\", \"13\", \"21\"]\n",
    "pre_seizure_duration = 100  # Ajustável\n",
    "\n",
    "# Chamar a função\n",
    "df = load_and_label_eeg(patient, file_numbers, pre_seizure_duration)\n",
    "\n",
    "df.to_csv(\"data/converted_df.csv\", index=False)\n"
   ]
  },
  {
   "cell_type": "code",
   "execution_count": 5,
   "metadata": {},
   "outputs": [
    {
     "ename": "KeyboardInterrupt",
     "evalue": "",
     "output_type": "error",
     "traceback": [
      "\u001b[0;31m---------------------------------------------------------------------------\u001b[0m",
      "\u001b[0;31mKeyboardInterrupt\u001b[0m                         Traceback (most recent call last)",
      "Cell \u001b[0;32mIn[5], line 2\u001b[0m\n\u001b[1;32m      1\u001b[0m \u001b[38;5;28;01mfrom\u001b[39;00m\u001b[38;5;250m \u001b[39m\u001b[38;5;21;01msklearn\u001b[39;00m\u001b[38;5;21;01m.\u001b[39;00m\u001b[38;5;21;01mpreprocessing\u001b[39;00m\u001b[38;5;250m \u001b[39m\u001b[38;5;28;01mimport\u001b[39;00m StandardScaler\n\u001b[0;32m----> 2\u001b[0m \u001b[38;5;28;01mfrom\u001b[39;00m\u001b[38;5;250m \u001b[39m\u001b[38;5;21;01msklearn\u001b[39;00m\u001b[38;5;21;01m.\u001b[39;00m\u001b[38;5;21;01mfeature_selection\u001b[39;00m\u001b[38;5;250m \u001b[39m\u001b[38;5;28;01mimport\u001b[39;00m RFE\n\u001b[1;32m      3\u001b[0m \u001b[38;5;28;01mfrom\u001b[39;00m\u001b[38;5;250m \u001b[39m\u001b[38;5;21;01msklearn\u001b[39;00m\u001b[38;5;21;01m.\u001b[39;00m\u001b[38;5;21;01mlinear_model\u001b[39;00m\u001b[38;5;250m \u001b[39m\u001b[38;5;28;01mimport\u001b[39;00m LogisticRegression\n\u001b[1;32m      5\u001b[0m \u001b[38;5;28;01mdef\u001b[39;00m\u001b[38;5;250m \u001b[39m\u001b[38;5;21mscale_and_select_features\u001b[39m(X_train, X_val, X_test, y_train, y_val):\n",
      "File \u001b[0;32m/opt/anaconda3/envs/BigDataAnalytics/lib/python3.12/site-packages/sklearn/feature_selection/__init__.py:12\u001b[0m\n\u001b[1;32m     10\u001b[0m \u001b[38;5;28;01mfrom\u001b[39;00m\u001b[38;5;250m \u001b[39m\u001b[38;5;21;01m.\u001b[39;00m\u001b[38;5;21;01m_base\u001b[39;00m\u001b[38;5;250m \u001b[39m\u001b[38;5;28;01mimport\u001b[39;00m SelectorMixin\n\u001b[1;32m     11\u001b[0m \u001b[38;5;28;01mfrom\u001b[39;00m\u001b[38;5;250m \u001b[39m\u001b[38;5;21;01m.\u001b[39;00m\u001b[38;5;21;01m_from_model\u001b[39;00m\u001b[38;5;250m \u001b[39m\u001b[38;5;28;01mimport\u001b[39;00m SelectFromModel\n\u001b[0;32m---> 12\u001b[0m \u001b[38;5;28;01mfrom\u001b[39;00m\u001b[38;5;250m \u001b[39m\u001b[38;5;21;01m.\u001b[39;00m\u001b[38;5;21;01m_mutual_info\u001b[39;00m\u001b[38;5;250m \u001b[39m\u001b[38;5;28;01mimport\u001b[39;00m mutual_info_classif, mutual_info_regression\n\u001b[1;32m     13\u001b[0m \u001b[38;5;28;01mfrom\u001b[39;00m\u001b[38;5;250m \u001b[39m\u001b[38;5;21;01m.\u001b[39;00m\u001b[38;5;21;01m_rfe\u001b[39;00m\u001b[38;5;250m \u001b[39m\u001b[38;5;28;01mimport\u001b[39;00m RFE, RFECV\n\u001b[1;32m     14\u001b[0m \u001b[38;5;28;01mfrom\u001b[39;00m\u001b[38;5;250m \u001b[39m\u001b[38;5;21;01m.\u001b[39;00m\u001b[38;5;21;01m_sequential\u001b[39;00m\u001b[38;5;250m \u001b[39m\u001b[38;5;28;01mimport\u001b[39;00m SequentialFeatureSelector\n",
      "File \u001b[0;32m/opt/anaconda3/envs/BigDataAnalytics/lib/python3.12/site-packages/sklearn/feature_selection/_mutual_info.py:11\u001b[0m\n\u001b[1;32m      8\u001b[0m \u001b[38;5;28;01mfrom\u001b[39;00m\u001b[38;5;250m \u001b[39m\u001b[38;5;21;01mscipy\u001b[39;00m\u001b[38;5;21;01m.\u001b[39;00m\u001b[38;5;21;01mspecial\u001b[39;00m\u001b[38;5;250m \u001b[39m\u001b[38;5;28;01mimport\u001b[39;00m digamma\n\u001b[1;32m     10\u001b[0m \u001b[38;5;28;01mfrom\u001b[39;00m\u001b[38;5;250m \u001b[39m\u001b[38;5;21;01m.\u001b[39;00m\u001b[38;5;21;01m.\u001b[39;00m\u001b[38;5;21;01mmetrics\u001b[39;00m\u001b[38;5;21;01m.\u001b[39;00m\u001b[38;5;21;01mcluster\u001b[39;00m\u001b[38;5;250m \u001b[39m\u001b[38;5;28;01mimport\u001b[39;00m mutual_info_score\n\u001b[0;32m---> 11\u001b[0m \u001b[38;5;28;01mfrom\u001b[39;00m\u001b[38;5;250m \u001b[39m\u001b[38;5;21;01m.\u001b[39;00m\u001b[38;5;21;01m.\u001b[39;00m\u001b[38;5;21;01mneighbors\u001b[39;00m\u001b[38;5;250m \u001b[39m\u001b[38;5;28;01mimport\u001b[39;00m KDTree, NearestNeighbors\n\u001b[1;32m     12\u001b[0m \u001b[38;5;28;01mfrom\u001b[39;00m\u001b[38;5;250m \u001b[39m\u001b[38;5;21;01m.\u001b[39;00m\u001b[38;5;21;01m.\u001b[39;00m\u001b[38;5;21;01mpreprocessing\u001b[39;00m\u001b[38;5;250m \u001b[39m\u001b[38;5;28;01mimport\u001b[39;00m scale\n\u001b[1;32m     13\u001b[0m \u001b[38;5;28;01mfrom\u001b[39;00m\u001b[38;5;250m \u001b[39m\u001b[38;5;21;01m.\u001b[39;00m\u001b[38;5;21;01m.\u001b[39;00m\u001b[38;5;21;01mutils\u001b[39;00m\u001b[38;5;250m \u001b[39m\u001b[38;5;28;01mimport\u001b[39;00m check_random_state\n",
      "File \u001b[0;32m/opt/anaconda3/envs/BigDataAnalytics/lib/python3.12/site-packages/sklearn/neighbors/__init__.py:18\u001b[0m\n\u001b[1;32m     16\u001b[0m \u001b[38;5;28;01mfrom\u001b[39;00m\u001b[38;5;250m \u001b[39m\u001b[38;5;21;01m.\u001b[39;00m\u001b[38;5;21;01m_kde\u001b[39;00m\u001b[38;5;250m \u001b[39m\u001b[38;5;28;01mimport\u001b[39;00m KernelDensity\n\u001b[1;32m     17\u001b[0m \u001b[38;5;28;01mfrom\u001b[39;00m\u001b[38;5;250m \u001b[39m\u001b[38;5;21;01m.\u001b[39;00m\u001b[38;5;21;01m_lof\u001b[39;00m\u001b[38;5;250m \u001b[39m\u001b[38;5;28;01mimport\u001b[39;00m LocalOutlierFactor\n\u001b[0;32m---> 18\u001b[0m \u001b[38;5;28;01mfrom\u001b[39;00m\u001b[38;5;250m \u001b[39m\u001b[38;5;21;01m.\u001b[39;00m\u001b[38;5;21;01m_nca\u001b[39;00m\u001b[38;5;250m \u001b[39m\u001b[38;5;28;01mimport\u001b[39;00m NeighborhoodComponentsAnalysis\n\u001b[1;32m     19\u001b[0m \u001b[38;5;28;01mfrom\u001b[39;00m\u001b[38;5;250m \u001b[39m\u001b[38;5;21;01m.\u001b[39;00m\u001b[38;5;21;01m_nearest_centroid\u001b[39;00m\u001b[38;5;250m \u001b[39m\u001b[38;5;28;01mimport\u001b[39;00m NearestCentroid\n\u001b[1;32m     20\u001b[0m \u001b[38;5;28;01mfrom\u001b[39;00m\u001b[38;5;250m \u001b[39m\u001b[38;5;21;01m.\u001b[39;00m\u001b[38;5;21;01m_regression\u001b[39;00m\u001b[38;5;250m \u001b[39m\u001b[38;5;28;01mimport\u001b[39;00m KNeighborsRegressor, RadiusNeighborsRegressor\n",
      "File \u001b[0;32m/opt/anaconda3/envs/BigDataAnalytics/lib/python3.12/site-packages/sklearn/neighbors/_nca.py:22\u001b[0m\n\u001b[1;32m     14\u001b[0m \u001b[38;5;28;01mfrom\u001b[39;00m\u001b[38;5;250m \u001b[39m\u001b[38;5;21;01mscipy\u001b[39;00m\u001b[38;5;21;01m.\u001b[39;00m\u001b[38;5;21;01moptimize\u001b[39;00m\u001b[38;5;250m \u001b[39m\u001b[38;5;28;01mimport\u001b[39;00m minimize\n\u001b[1;32m     16\u001b[0m \u001b[38;5;28;01mfrom\u001b[39;00m\u001b[38;5;250m \u001b[39m\u001b[38;5;21;01m.\u001b[39;00m\u001b[38;5;21;01m.\u001b[39;00m\u001b[38;5;21;01mbase\u001b[39;00m\u001b[38;5;250m \u001b[39m\u001b[38;5;28;01mimport\u001b[39;00m (\n\u001b[1;32m     17\u001b[0m     BaseEstimator,\n\u001b[1;32m     18\u001b[0m     ClassNamePrefixFeaturesOutMixin,\n\u001b[1;32m     19\u001b[0m     TransformerMixin,\n\u001b[1;32m     20\u001b[0m     _fit_context,\n\u001b[1;32m     21\u001b[0m )\n\u001b[0;32m---> 22\u001b[0m \u001b[38;5;28;01mfrom\u001b[39;00m\u001b[38;5;250m \u001b[39m\u001b[38;5;21;01m.\u001b[39;00m\u001b[38;5;21;01m.\u001b[39;00m\u001b[38;5;21;01mdecomposition\u001b[39;00m\u001b[38;5;250m \u001b[39m\u001b[38;5;28;01mimport\u001b[39;00m PCA\n\u001b[1;32m     23\u001b[0m \u001b[38;5;28;01mfrom\u001b[39;00m\u001b[38;5;250m \u001b[39m\u001b[38;5;21;01m.\u001b[39;00m\u001b[38;5;21;01m.\u001b[39;00m\u001b[38;5;21;01mexceptions\u001b[39;00m\u001b[38;5;250m \u001b[39m\u001b[38;5;28;01mimport\u001b[39;00m ConvergenceWarning\n\u001b[1;32m     24\u001b[0m \u001b[38;5;28;01mfrom\u001b[39;00m\u001b[38;5;250m \u001b[39m\u001b[38;5;21;01m.\u001b[39;00m\u001b[38;5;21;01m.\u001b[39;00m\u001b[38;5;21;01mmetrics\u001b[39;00m\u001b[38;5;250m \u001b[39m\u001b[38;5;28;01mimport\u001b[39;00m pairwise_distances\n",
      "File \u001b[0;32m/opt/anaconda3/envs/BigDataAnalytics/lib/python3.12/site-packages/sklearn/decomposition/__init__.py:11\u001b[0m\n\u001b[1;32m      7\u001b[0m \u001b[38;5;66;03m# Authors: The scikit-learn developers\u001b[39;00m\n\u001b[1;32m      8\u001b[0m \u001b[38;5;66;03m# SPDX-License-Identifier: BSD-3-Clause\u001b[39;00m\n\u001b[1;32m     10\u001b[0m \u001b[38;5;28;01mfrom\u001b[39;00m\u001b[38;5;250m \u001b[39m\u001b[38;5;21;01m.\u001b[39;00m\u001b[38;5;21;01m.\u001b[39;00m\u001b[38;5;21;01mutils\u001b[39;00m\u001b[38;5;21;01m.\u001b[39;00m\u001b[38;5;21;01mextmath\u001b[39;00m\u001b[38;5;250m \u001b[39m\u001b[38;5;28;01mimport\u001b[39;00m randomized_svd\n\u001b[0;32m---> 11\u001b[0m \u001b[38;5;28;01mfrom\u001b[39;00m\u001b[38;5;250m \u001b[39m\u001b[38;5;21;01m.\u001b[39;00m\u001b[38;5;21;01m_dict_learning\u001b[39;00m\u001b[38;5;250m \u001b[39m\u001b[38;5;28;01mimport\u001b[39;00m (\n\u001b[1;32m     12\u001b[0m     DictionaryLearning,\n\u001b[1;32m     13\u001b[0m     MiniBatchDictionaryLearning,\n\u001b[1;32m     14\u001b[0m     SparseCoder,\n\u001b[1;32m     15\u001b[0m     dict_learning,\n\u001b[1;32m     16\u001b[0m     dict_learning_online,\n\u001b[1;32m     17\u001b[0m     sparse_encode,\n\u001b[1;32m     18\u001b[0m )\n\u001b[1;32m     19\u001b[0m \u001b[38;5;28;01mfrom\u001b[39;00m\u001b[38;5;250m \u001b[39m\u001b[38;5;21;01m.\u001b[39;00m\u001b[38;5;21;01m_factor_analysis\u001b[39;00m\u001b[38;5;250m \u001b[39m\u001b[38;5;28;01mimport\u001b[39;00m FactorAnalysis\n\u001b[1;32m     20\u001b[0m \u001b[38;5;28;01mfrom\u001b[39;00m\u001b[38;5;250m \u001b[39m\u001b[38;5;21;01m.\u001b[39;00m\u001b[38;5;21;01m_fastica\u001b[39;00m\u001b[38;5;250m \u001b[39m\u001b[38;5;28;01mimport\u001b[39;00m FastICA, fastica\n",
      "File \u001b[0;32m/opt/anaconda3/envs/BigDataAnalytics/lib/python3.12/site-packages/sklearn/decomposition/_dict_learning.py:21\u001b[0m\n\u001b[1;32m     13\u001b[0m \u001b[38;5;28;01mfrom\u001b[39;00m\u001b[38;5;250m \u001b[39m\u001b[38;5;21;01mscipy\u001b[39;00m\u001b[38;5;250m \u001b[39m\u001b[38;5;28;01mimport\u001b[39;00m linalg\n\u001b[1;32m     15\u001b[0m \u001b[38;5;28;01mfrom\u001b[39;00m\u001b[38;5;250m \u001b[39m\u001b[38;5;21;01m.\u001b[39;00m\u001b[38;5;21;01m.\u001b[39;00m\u001b[38;5;21;01mbase\u001b[39;00m\u001b[38;5;250m \u001b[39m\u001b[38;5;28;01mimport\u001b[39;00m (\n\u001b[1;32m     16\u001b[0m     BaseEstimator,\n\u001b[1;32m     17\u001b[0m     ClassNamePrefixFeaturesOutMixin,\n\u001b[1;32m     18\u001b[0m     TransformerMixin,\n\u001b[1;32m     19\u001b[0m     _fit_context,\n\u001b[1;32m     20\u001b[0m )\n\u001b[0;32m---> 21\u001b[0m \u001b[38;5;28;01mfrom\u001b[39;00m\u001b[38;5;250m \u001b[39m\u001b[38;5;21;01m.\u001b[39;00m\u001b[38;5;21;01m.\u001b[39;00m\u001b[38;5;21;01mlinear_model\u001b[39;00m\u001b[38;5;250m \u001b[39m\u001b[38;5;28;01mimport\u001b[39;00m Lars, Lasso, LassoLars, orthogonal_mp_gram\n\u001b[1;32m     22\u001b[0m \u001b[38;5;28;01mfrom\u001b[39;00m\u001b[38;5;250m \u001b[39m\u001b[38;5;21;01m.\u001b[39;00m\u001b[38;5;21;01m.\u001b[39;00m\u001b[38;5;21;01mutils\u001b[39;00m\u001b[38;5;250m \u001b[39m\u001b[38;5;28;01mimport\u001b[39;00m check_array, check_random_state, gen_batches, gen_even_slices\n\u001b[1;32m     23\u001b[0m \u001b[38;5;28;01mfrom\u001b[39;00m\u001b[38;5;250m \u001b[39m\u001b[38;5;21;01m.\u001b[39;00m\u001b[38;5;21;01m.\u001b[39;00m\u001b[38;5;21;01mutils\u001b[39;00m\u001b[38;5;21;01m.\u001b[39;00m\u001b[38;5;21;01m_param_validation\u001b[39;00m\u001b[38;5;250m \u001b[39m\u001b[38;5;28;01mimport\u001b[39;00m Interval, StrOptions, validate_params\n",
      "File \u001b[0;32m/opt/anaconda3/envs/BigDataAnalytics/lib/python3.12/site-packages/sklearn/linear_model/__init__.py:35\u001b[0m\n\u001b[1;32m     25\u001b[0m \u001b[38;5;28;01mfrom\u001b[39;00m\u001b[38;5;250m \u001b[39m\u001b[38;5;21;01m.\u001b[39;00m\u001b[38;5;21;01m_huber\u001b[39;00m\u001b[38;5;250m \u001b[39m\u001b[38;5;28;01mimport\u001b[39;00m HuberRegressor\n\u001b[1;32m     26\u001b[0m \u001b[38;5;28;01mfrom\u001b[39;00m\u001b[38;5;250m \u001b[39m\u001b[38;5;21;01m.\u001b[39;00m\u001b[38;5;21;01m_least_angle\u001b[39;00m\u001b[38;5;250m \u001b[39m\u001b[38;5;28;01mimport\u001b[39;00m (\n\u001b[1;32m     27\u001b[0m     Lars,\n\u001b[1;32m     28\u001b[0m     LarsCV,\n\u001b[0;32m   (...)\u001b[0m\n\u001b[1;32m     33\u001b[0m     lars_path_gram,\n\u001b[1;32m     34\u001b[0m )\n\u001b[0;32m---> 35\u001b[0m \u001b[38;5;28;01mfrom\u001b[39;00m\u001b[38;5;250m \u001b[39m\u001b[38;5;21;01m.\u001b[39;00m\u001b[38;5;21;01m_logistic\u001b[39;00m\u001b[38;5;250m \u001b[39m\u001b[38;5;28;01mimport\u001b[39;00m LogisticRegression, LogisticRegressionCV\n\u001b[1;32m     36\u001b[0m \u001b[38;5;28;01mfrom\u001b[39;00m\u001b[38;5;250m \u001b[39m\u001b[38;5;21;01m.\u001b[39;00m\u001b[38;5;21;01m_omp\u001b[39;00m\u001b[38;5;250m \u001b[39m\u001b[38;5;28;01mimport\u001b[39;00m (\n\u001b[1;32m     37\u001b[0m     OrthogonalMatchingPursuit,\n\u001b[1;32m     38\u001b[0m     OrthogonalMatchingPursuitCV,\n\u001b[1;32m     39\u001b[0m     orthogonal_mp,\n\u001b[1;32m     40\u001b[0m     orthogonal_mp_gram,\n\u001b[1;32m     41\u001b[0m )\n\u001b[1;32m     42\u001b[0m \u001b[38;5;28;01mfrom\u001b[39;00m\u001b[38;5;250m \u001b[39m\u001b[38;5;21;01m.\u001b[39;00m\u001b[38;5;21;01m_passive_aggressive\u001b[39;00m\u001b[38;5;250m \u001b[39m\u001b[38;5;28;01mimport\u001b[39;00m PassiveAggressiveClassifier, PassiveAggressiveRegressor\n",
      "File \u001b[0;32m/opt/anaconda3/envs/BigDataAnalytics/lib/python3.12/site-packages/sklearn/linear_model/_logistic.py:52\u001b[0m\n\u001b[1;32m     50\u001b[0m \u001b[38;5;28;01mfrom\u001b[39;00m\u001b[38;5;250m \u001b[39m\u001b[38;5;21;01m.\u001b[39;00m\u001b[38;5;21;01m_glm\u001b[39;00m\u001b[38;5;21;01m.\u001b[39;00m\u001b[38;5;21;01mglm\u001b[39;00m\u001b[38;5;250m \u001b[39m\u001b[38;5;28;01mimport\u001b[39;00m NewtonCholeskySolver\n\u001b[1;32m     51\u001b[0m \u001b[38;5;28;01mfrom\u001b[39;00m\u001b[38;5;250m \u001b[39m\u001b[38;5;21;01m.\u001b[39;00m\u001b[38;5;21;01m_linear_loss\u001b[39;00m\u001b[38;5;250m \u001b[39m\u001b[38;5;28;01mimport\u001b[39;00m LinearModelLoss\n\u001b[0;32m---> 52\u001b[0m \u001b[38;5;28;01mfrom\u001b[39;00m\u001b[38;5;250m \u001b[39m\u001b[38;5;21;01m.\u001b[39;00m\u001b[38;5;21;01m_sag\u001b[39;00m\u001b[38;5;250m \u001b[39m\u001b[38;5;28;01mimport\u001b[39;00m sag_solver\n\u001b[1;32m     54\u001b[0m _LOGISTIC_SOLVER_CONVERGENCE_MSG \u001b[38;5;241m=\u001b[39m (\n\u001b[1;32m     55\u001b[0m     \u001b[38;5;124m\"\u001b[39m\u001b[38;5;124mPlease also refer to the documentation for alternative solver options:\u001b[39m\u001b[38;5;130;01m\\n\u001b[39;00m\u001b[38;5;124m\"\u001b[39m\n\u001b[1;32m     56\u001b[0m     \u001b[38;5;124m\"\u001b[39m\u001b[38;5;124m    https://scikit-learn.org/stable/modules/linear_model.html\u001b[39m\u001b[38;5;124m\"\u001b[39m\n\u001b[1;32m     57\u001b[0m     \u001b[38;5;124m\"\u001b[39m\u001b[38;5;124m#logistic-regression\u001b[39m\u001b[38;5;124m\"\u001b[39m\n\u001b[1;32m     58\u001b[0m )\n\u001b[1;32m     61\u001b[0m \u001b[38;5;28;01mdef\u001b[39;00m\u001b[38;5;250m \u001b[39m\u001b[38;5;21m_check_solver\u001b[39m(solver, penalty, dual):\n",
      "File \u001b[0;32m/opt/anaconda3/envs/BigDataAnalytics/lib/python3.12/site-packages/sklearn/linear_model/_sag.py:15\u001b[0m\n\u001b[1;32m     13\u001b[0m \u001b[38;5;28;01mfrom\u001b[39;00m\u001b[38;5;250m \u001b[39m\u001b[38;5;21;01m.\u001b[39;00m\u001b[38;5;21;01m.\u001b[39;00m\u001b[38;5;21;01mutils\u001b[39;00m\u001b[38;5;21;01m.\u001b[39;00m\u001b[38;5;21;01mvalidation\u001b[39;00m\u001b[38;5;250m \u001b[39m\u001b[38;5;28;01mimport\u001b[39;00m _check_sample_weight\n\u001b[1;32m     14\u001b[0m \u001b[38;5;28;01mfrom\u001b[39;00m\u001b[38;5;250m \u001b[39m\u001b[38;5;21;01m.\u001b[39;00m\u001b[38;5;21;01m_base\u001b[39;00m\u001b[38;5;250m \u001b[39m\u001b[38;5;28;01mimport\u001b[39;00m make_dataset\n\u001b[0;32m---> 15\u001b[0m \u001b[38;5;28;01mfrom\u001b[39;00m\u001b[38;5;250m \u001b[39m\u001b[38;5;21;01m.\u001b[39;00m\u001b[38;5;21;01m_sag_fast\u001b[39;00m\u001b[38;5;250m \u001b[39m\u001b[38;5;28;01mimport\u001b[39;00m sag32, sag64\n\u001b[1;32m     18\u001b[0m \u001b[38;5;28;01mdef\u001b[39;00m\u001b[38;5;250m \u001b[39m\u001b[38;5;21mget_auto_step_size\u001b[39m(\n\u001b[1;32m     19\u001b[0m     max_squared_sum, alpha_scaled, loss, fit_intercept, n_samples\u001b[38;5;241m=\u001b[39m\u001b[38;5;28;01mNone\u001b[39;00m, is_saga\u001b[38;5;241m=\u001b[39m\u001b[38;5;28;01mFalse\u001b[39;00m\n\u001b[1;32m     20\u001b[0m ):\n\u001b[1;32m     21\u001b[0m \u001b[38;5;250m    \u001b[39m\u001b[38;5;124;03m\"\"\"Compute automatic step size for SAG solver.\u001b[39;00m\n\u001b[1;32m     22\u001b[0m \n\u001b[1;32m     23\u001b[0m \u001b[38;5;124;03m    The step size is set to 1 / (alpha_scaled + L + fit_intercept) where L is\u001b[39;00m\n\u001b[0;32m   (...)\u001b[0m\n\u001b[1;32m     62\u001b[0m \u001b[38;5;124;03m    for Non-Strongly Convex Composite Objectives\" <1407.0202>`\u001b[39;00m\n\u001b[1;32m     63\u001b[0m \u001b[38;5;124;03m    \"\"\"\u001b[39;00m\n",
      "File \u001b[0;32m<frozen importlib._bootstrap>:645\u001b[0m, in \u001b[0;36mparent\u001b[0;34m(self)\u001b[0m\n",
      "\u001b[0;31mKeyboardInterrupt\u001b[0m: "
     ]
    }
   ],
   "source": [
    "from sklearn.preprocessing import StandardScaler\n",
    "from sklearn.feature_selection import RFE\n",
    "from sklearn.linear_model import LogisticRegression\n",
    "\n",
    "def scale_and_select_features(X_train, X_val, X_test, y_train, y_val):\n",
    "    \"\"\"\n",
    "    Scale the features and perform feature selection (RFE) once for all models.\n",
    "    \n",
    "    Args:\n",
    "        X_train (pd.DataFrame): Training features.\n",
    "        X_val (pd.DataFrame): Validation features.\n",
    "        X_test (pd.DataFrame): Test features.\n",
    "        y_train (pd.Series): Training labels.\n",
    "        y_val (pd.Series): Validation labels.\n",
    "    \n",
    "    Returns:\n",
    "        X_train_rfe, X_val_rfe, X_test_rfe: Feature-selected and scaled data.\n",
    "    \"\"\"\n",
    "    # Step 1: Scale the data\n",
    "    scaler = StandardScaler()\n",
    "    X_train_scaled = scaler.fit_transform(X_train)\n",
    "    X_val_scaled = scaler.transform(X_val)\n",
    "    X_test_scaled = scaler.transform(X_test)\n",
    "    \n",
    "    # Step 2: Feature Selection using RFE with Logistic Regression\n",
    "    model = LogisticRegression(max_iter=1000, random_state=42)\n",
    "    rfe = RFE(estimator=model, n_features_to_select=5, verbose=2)  # Selecting top 5 features\n",
    "    X_train_rfe = rfe.fit_transform(X_train_scaled, y_train)\n",
    "    X_val_rfe = rfe.transform(X_val_scaled)\n",
    "    X_test_rfe = rfe.transform(X_test_scaled)\n",
    "    \n",
    "    return X_train_rfe, X_val_rfe, X_test_rfe\n"
   ]
  },
  {
   "cell_type": "code",
   "execution_count": null,
   "metadata": {},
   "outputs": [],
   "source": [
    "X = df.drop(columns=[\"label\", \"time\", \"file\"])\n",
    "y = df[\"label\"]\n",
    "\n",
    "from sklearn.model_selection import train_test_split\n",
    "\n",
    "def split_data(X, y, test_size=0.15, val_size=0.15, random_state=42):\n",
    "    \"\"\"\n",
    "    Split the data into training, validation, and test sets.\n",
    "    \n",
    "    Args:\n",
    "        X (pd.DataFrame): Features (input data).\n",
    "        y (pd.Series): Labels (output data).\n",
    "        test_size (float): Proportion of the data to be used for the test set.\n",
    "        val_size (float): Proportion of the data to be used for the validation set.\n",
    "        random_state (int): Seed for reproducibility.\n",
    "    \n",
    "    Returns:\n",
    "        X_train, X_val, X_test, y_train, y_val: Split data.\n",
    "    \"\"\"\n",
    "    # First, split the data into training set (70%) and temporary set (30%)\n",
    "    X_train, X_temp, y_train, y_temp = train_test_split(X, y, test_size=(test_size + val_size), random_state=random_state, stratify=y)\n",
    "    \n",
    "    # Now split the temporary set into validation (50% of the temp set) and test (50% of the temp set)\n",
    "    X_val, X_test, y_val, y_test = train_test_split(X_temp, y_temp, test_size=(test_size / (test_size + val_size)), random_state=random_state, stratify=y_temp)\n",
    "    \n",
    "    return X_train, X_val, X_test, y_train, y_val, y_test\n",
    "\n",
    "# Assuming you have your features X and labels y defined\n",
    "X_train, X_val, X_test, y_train, y_val, y_test = split_data(X, y)\n",
    "\n",
    "# Now you can use these sets for training, validation, and testing\n",
    "\n",
    "\n",
    "# Step 1: Scale the features and perform feature selection (RFE)\n",
    "X_train_rfe, X_val_rfe, X_test_rfe = scale_and_select_features(X_train, X_val, X_test, y_train, y_val)\n",
    "\n",
    "\n"
   ]
  },
  {
   "cell_type": "code",
   "execution_count": null,
   "metadata": {},
   "outputs": [],
   "source": [
    "from sklearn.model_selection import GridSearchCV\n",
    "from sklearn.linear_model import LogisticRegression\n",
    "from sklearn.metrics import accuracy_score, confusion_matrix\n",
    "\n",
    "def train_logistic_model_with_grid_search(X_train_rfe, y_train, X_val_rfe, y_val):\n",
    "    \"\"\"\n",
    "    Train Logistic Regression model with GridSearchCV and calculate performance metrics.\n",
    "    \n",
    "    Args:\n",
    "        X_train_rfe (pd.DataFrame): Training data with selected features.\n",
    "        y_train (pd.Series): Labels for training data.\n",
    "        X_val_rfe (pd.DataFrame): Validation data with selected features.\n",
    "        y_val (pd.Series): Labels for validation data.\n",
    "    \n",
    "    Returns:\n",
    "        dict: Results with best parameters, accuracy, and confusion matrix for Logistic Regression.\n",
    "    \"\"\"\n",
    "    # Define model and parameter grid\n",
    "    model = LogisticRegression(max_iter=1000, random_state=42)\n",
    "    param_grid = {\n",
    "    \"C\": [0.01, 0.1, 1],\n",
    "    \"penalty\": ['l2', 'elasticnet', 'l1'],  # Regularization strength with a range of values\n",
    "    \"solver\": [\"lbfgs\"],  # Using lbfgs for faster convergence\n",
    "    \"class_weight\": [\"balanced\"],  # Adjust for class imbalance\n",
    "}\n",
    "\n",
    "    \n",
    "    # Step 1: Grid Search for Logistic Regression\n",
    "    grid_search = GridSearchCV(model, param_grid, cv=3, scoring=\"accuracy\", n_jobs=-1, verbose=2)\n",
    "    grid_search.fit(X_train_rfe, y_train)\n",
    "    \n",
    "    # Best model found\n",
    "    best_model = grid_search.best_estimator_\n",
    "    best_params = grid_search.best_params_\n",
    "\n",
    "    # Make predictions on the validation set\n",
    "    y_val_pred = best_model.predict(X_val_rfe)\n",
    "    \n",
    "    # Calculate validation accuracy\n",
    "    val_accuracy = accuracy_score(y_val, y_val_pred)\n",
    "    \n",
    "    # Generate confusion matrix\n",
    "    val_confusion = confusion_matrix(y_val, y_val_pred)\n",
    "\n",
    "    # Print results\n",
    "    print(f\"\\n🔹 Best Hyperparameters: {best_params}\")\n",
    "    print(f\"🔹 Validation Accuracy: {val_accuracy}\")\n",
    "    print(f\"🔹 Validation Confusion Matrix:\\n{val_confusion}\")\n",
    "\n",
    "    # Return results\n",
    "    return {\n",
    "        \"best_model\": best_model,\n",
    "        \"best_params\": best_params,\n",
    "        \"val_accuracy\": val_accuracy,\n",
    "        \"val_confusion_matrix\": val_confusion\n",
    "    }\n"
   ]
  },
  {
   "cell_type": "code",
   "execution_count": null,
   "metadata": {},
   "outputs": [],
   "source": [
    "# Step 2: Train Logistic Regression model and get results\n",
    "results = train_logistic_model_with_grid_search(X_train_rfe, y_train, X_val_rfe, y_val)\n",
    "\n",
    "# The results will contain the best hyperparameters, accuracy, and confusion matrix"
   ]
  }
 ],
 "metadata": {
  "kernelspec": {
   "display_name": "BigDataAnalytics",
   "language": "python",
   "name": "python3"
  },
  "language_info": {
   "codemirror_mode": {
    "name": "ipython",
    "version": 3
   },
   "file_extension": ".py",
   "mimetype": "text/x-python",
   "name": "python",
   "nbconvert_exporter": "python",
   "pygments_lexer": "ipython3",
   "version": "3.12.2"
  }
 },
 "nbformat": 4,
 "nbformat_minor": 2
}
