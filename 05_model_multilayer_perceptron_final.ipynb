{
 "cells": [
  {
   "cell_type": "markdown",
   "metadata": {
    "application/vnd.databricks.v1+cell": {
     "cellMetadata": {},
     "inputWidgets": {},
     "nuid": "a490e1ff-054a-4021-b107-ee76f7bfee20",
     "showTitle": false,
     "tableResultSettingsMap": {},
     "title": ""
    }
   },
   "source": [
    "# Advanced Machine Learning Models in PySpark\n",
    "\n",
    "This notebook implements multiple classification models using PySpark with random search hyperparameter optimization.\n",
    "\n",
    "## Table of Contents\n",
    "1. [Model Selection Configuration](#1.-Model-Selection-Configuration)\n",
    "2. [Importing Libraries](#2.-Importing-Libraries)\n",
    "3. [Loading and Preprocessing Data](#3.-Loading-and-Preprocessing-Data)\n",
    "4. [Helper Functions](#4.-Helper-Functions)\n",
    "    - [4.1 Random Search Function](#4.1-Random-Search-Function)\n",
    "    - [4.2 Evaluation Functions](#4.2-Evaluation-Functions)\n",
    "5. [Model Training](#5.-Model-Training)\n",
    "    - [5.4 Multilayer Perceptron](#5.4-Multilayer-Perceptron-(MLP))\n",
    "6. [Model Comparison](#6.-Model-Comparison)\n",
    "7. [Test Set Evaluation](#7.-Test-Set-Evaluation-with-Best-Model)\n",
    "8. [Conclusion](#8.-Conclusion)"
   ]
  },
  {
   "cell_type": "markdown",
   "metadata": {
    "application/vnd.databricks.v1+cell": {
     "cellMetadata": {},
     "inputWidgets": {},
     "nuid": "db5620de-6613-4f1e-8f2a-8d0e7eb26e51",
     "showTitle": false,
     "tableResultSettingsMap": {},
     "title": ""
    }
   },
   "source": [
    "## 1. Model Selection Configuration\n",
    "\n",
    "**Set to True for models you want to train, False for models to skip.**"
   ]
  },
  {
   "cell_type": "code",
   "execution_count": 0,
   "metadata": {
    "application/vnd.databricks.v1+cell": {
     "cellMetadata": {
      "byteLimit": 2048000,
      "rowLimit": 10000
     },
     "inputWidgets": {},
     "nuid": "7f2850fc-9fe8-41b6-ab3c-1ef85f8abe37",
     "showTitle": false,
     "tableResultSettingsMap": {},
     "title": ""
    }
   },
   "outputs": [
    {
     "output_type": "stream",
     "name": "stdout",
     "output_type": "stream",
     "text": [
      "Out[1]: '\\nDATA_PATHS = {\\n    \\'train\\': \"/FileStore/tables/train_df__1_.csv\",\\n    \\'val\\': \"dbfs:/FileStore/tables/val_df__1_.csv\",\\n    \\'test\\': \"dbfs:/FileStore/tables/test_df__1_.csv\"\\n}'"
     ]
    }
   ],
   "source": [
    "# Model selection configuration - Set to True to run, False to skip\n",
    "RUN_MODELS = {\n",
    "    'logistic_regression': False,\n",
    "    'random_forest': False,\n",
    "    'gbdt': False,\n",
    "    'mlp': True,\n",
    "    'xgboost': False\n",
    "}\n",
    "\n",
    "# Random search configuration\n",
    "RANDOM_SEARCH_CONFIG = {\n",
    "    'num_folds': 3,      \n",
    "    'parallelism': 1     \n",
    "}\n",
    "\n",
    "# File paths configuration\n",
    "DATA_PATHS = {\n",
    "     'train': \"/FileStore/tables/train_df__1_-1.csv\",\n",
    "     'val': \"/FileStore/tables/val_df__1_-1.csv\",\n",
    "     'test': \"/FileStore/tables/test_df__1_-2.csv\"\n",
    " }\n",
    "'''\n",
    "DATA_PATHS = {\n",
    "    'train': \"/FileStore/tables/train_df__1_.csv\",\n",
    "    'val': \"dbfs:/FileStore/tables/val_df__1_.csv\",\n",
    "    'test': \"dbfs:/FileStore/tables/test_df__1_.csv\"\n",
    "}'''"
   ]
  },
  {
   "cell_type": "markdown",
   "metadata": {
    "application/vnd.databricks.v1+cell": {
     "cellMetadata": {},
     "inputWidgets": {},
     "nuid": "018b8e70-781a-41a4-8e13-2775d6c8e9b8",
     "showTitle": false,
     "tableResultSettingsMap": {},
     "title": ""
    }
   },
   "source": [
    "## 2. Importing Libraries"
   ]
  },
  {
   "cell_type": "code",
   "execution_count": 0,
   "metadata": {
    "application/vnd.databricks.v1+cell": {
     "cellMetadata": {
      "byteLimit": 2048000,
      "rowLimit": 10000
     },
     "inputWidgets": {},
     "nuid": "2f6c2ba9-6c34-4b50-95c7-1c0972795639",
     "showTitle": false,
     "tableResultSettingsMap": {},
     "title": ""
    }
   },
   "outputs": [
    {
     "output_type": "display_data",
     "data": {
      "application/vnd.databricks.v1+bamboolib_hint": "{\"pd.DataFrames\": [], \"version\": \"0.0.1\"}",
      "text/plain": []
     },
     "metadata": {},
     "output_type": "display_data"
    },
    {
     "output_type": "stream",
     "name": "stdout",
     "output_type": "stream",
     "text": [
      "XGBoost is available\n"
     ]
    }
   ],
   "source": [
    "# Importing libraries\n",
    "import pandas as pd\n",
    "import numpy as np\n",
    "import matplotlib.pyplot as plt\n",
    "import seaborn as sns\n",
    "from matplotlib.lines import Line2D\n",
    "from math import ceil\n",
    "import time\n",
    "import os\n",
    "\n",
    "# PySpark imports\n",
    "from pyspark.sql import SparkSession  \n",
    "from pyspark.sql.window import Window\n",
    "from pyspark.sql.functions import col, row_number, when, lit, count, lag, expr\n",
    "from pyspark.sql.functions import udf\n",
    "from pyspark.sql.types import DoubleType, ArrayType, FloatType\n",
    "\n",
    "# ML imports for classification\n",
    "from pyspark.ml.classification import LogisticRegression, RandomForestClassifier, GBTClassifier, MultilayerPerceptronClassifier\n",
    "from pyspark.ml.tuning import ParamGridBuilder, CrossValidator\n",
    "from pyspark.ml.evaluation import MulticlassClassificationEvaluator\n",
    "from pyspark.ml.feature import VectorAssembler\n",
    "from pyspark.mllib.evaluation import MulticlassMetrics\n",
    "import xgboost as xgb\n",
    "\n",
    "# Scikit-learn imports for metrics\n",
    "from sklearn.metrics import confusion_matrix, classification_report, roc_curve, auc, precision_recall_curve\n",
    "\n",
    "# Initialize Spark session\n",
    "spark = SparkSession.builder.appName(\"ML Models Spark\").getOrCreate()"
   ]
  },
  {
   "cell_type": "markdown",
   "metadata": {
    "application/vnd.databricks.v1+cell": {
     "cellMetadata": {},
     "inputWidgets": {},
     "nuid": "bf2e0d44-c900-4178-a8d0-df3c0bc51654",
     "showTitle": false,
     "tableResultSettingsMap": {},
     "title": ""
    }
   },
   "source": [
    "## 3. Loading and Preprocessing Data"
   ]
  },
  {
   "cell_type": "code",
   "execution_count": 0,
   "metadata": {
    "application/vnd.databricks.v1+cell": {
     "cellMetadata": {
      "byteLimit": 2048000,
      "rowLimit": 10000
     },
     "inputWidgets": {},
     "nuid": "59b4753d-3ff6-40e6-b7e4-34072dabde94",
     "showTitle": false,
     "tableResultSettingsMap": {},
     "title": ""
    }
   },
   "outputs": [
    {
     "output_type": "stream",
     "name": "stdout",
     "output_type": "stream",
     "text": [
      "Data loaded and preprocessed:\n  - Training samples: 3142910\n  - Validation samples: 681381\n  - Test samples: 681395\n\nSample of training data:\n+--------------------+-----+\n|            features|label|\n+--------------------+-----+\n|[-1.611721611721E...|    0|\n|[1.95360195360194...|    0|\n|[-9.7680097680097...|    0|\n+--------------------+-----+\nonly showing top 3 rows\n\n\nNumber of classes: 3\n"
     ]
    }
   ],
   "source": [
    "def load_and_preprocess_data(file_paths):\n",
    "    \"\"\"Load and preprocess data from specified file paths.\n",
    "    \n",
    "    Args:\n",
    "        file_paths (dict): Dictionary with keys 'train', 'val', 'test' and file path values\n",
    "        \n",
    "    Returns:\n",
    "        tuple: Preprocessed train, validation, and test data\n",
    "    \"\"\"\n",
    "    # Load data\n",
    "    train_data = spark.read.csv(file_paths['train'], header=True, inferSchema=True)\n",
    "    val_data = spark.read.csv(file_paths['val'], header=True, inferSchema=True)\n",
    "    test_data = spark.read.csv(file_paths['test'], header=True, inferSchema=True)\n",
    "    \n",
    "    # Select feature columns (all except 'label', 'time', and 'file')\n",
    "    feature_cols = [col for col in train_data.columns if col not in ['label', 'time', 'file']]\n",
    "    \n",
    "    # Assemble features into a single vector column\n",
    "    assembler = VectorAssembler(inputCols=feature_cols, outputCol=\"features\")\n",
    "    train_data = assembler.transform(train_data).select(\"features\", \"label\")\n",
    "    val_data = assembler.transform(val_data).select(\"features\", \"label\")\n",
    "    test_data = assembler.transform(test_data).select(\"features\", \"label\")\n",
    "    \n",
    "    print(f\"Data loaded and preprocessed:\")\n",
    "    print(f\"  - Training samples: {train_data.count()}\")\n",
    "    print(f\"  - Validation samples: {val_data.count()}\")\n",
    "    print(f\"  - Test samples: {test_data.count()}\")\n",
    "    \n",
    "    return train_data, val_data, test_data\n",
    "\n",
    "# Load and preprocess the data\n",
    "train_data, val_data, test_data = load_and_preprocess_data(DATA_PATHS)\n",
    "\n",
    "# Display a few samples\n",
    "print(\"\\nSample of training data:\")\n",
    "train_data.show(3)\n",
    "\n",
    "# Count classes\n",
    "num_classes = train_data.select(\"label\").distinct().count()\n",
    "print(f\"\\nNumber of classes: {num_classes}\")"
   ]
  },
  {
   "cell_type": "markdown",
   "metadata": {
    "application/vnd.databricks.v1+cell": {
     "cellMetadata": {},
     "inputWidgets": {},
     "nuid": "44d9fd6b-3a7c-493d-bc7c-2455ed4bcb40",
     "showTitle": false,
     "tableResultSettingsMap": {},
     "title": ""
    }
   },
   "source": [
    "## 4. Helper Functions"
   ]
  },
  {
   "cell_type": "markdown",
   "metadata": {
    "application/vnd.databricks.v1+cell": {
     "cellMetadata": {},
     "inputWidgets": {},
     "nuid": "ce2dd3d0-69a1-4262-a12e-be1a9398ef2e",
     "showTitle": false,
     "tableResultSettingsMap": {},
     "title": ""
    }
   },
   "source": [
    "### 4.1 Random Search Function"
   ]
  },
  {
   "cell_type": "code",
   "execution_count": 0,
   "metadata": {
    "application/vnd.databricks.v1+cell": {
     "cellMetadata": {
      "byteLimit": 2048000,
      "rowLimit": 10000
     },
     "inputWidgets": {},
     "nuid": "ecae68ec-da36-4bea-b198-d9ba57bc7beb",
     "showTitle": false,
     "tableResultSettingsMap": {},
     "title": ""
    }
   },
   "outputs": [],
   "source": [
    "\n",
    "def perform_mlp_random_search(train_data, val_data, num_features, num_classes):\n",
    "    \"\"\"Perform custom random search for MLP hyperparameter tuning.\n",
    "    \n",
    "    Args:\n",
    "        train_data: Training data DataFrame\n",
    "        val_data: Validation data DataFrame\n",
    "        num_features: Number of input features\n",
    "        num_classes: Number of classes\n",
    "        \n",
    "    Returns:\n",
    "        tuple: (best_model, best_params, train_predictions, val_predictions, train_f1, val_f1)\n",
    "    \"\"\"\n",
    "    # Initialize the evaluator for F1 score\n",
    "    evaluator = MulticlassClassificationEvaluator(\n",
    "        labelCol='label', \n",
    "        predictionCol='prediction', \n",
    "        metricName='f1'\n",
    "    )\n",
    "    \n",
    "    # Network architectures for random search\n",
    "    layers_options = [\n",
    "        [num_features, num_features, num_classes],  \n",
    "        [num_features, num_features * 2, num_features, num_classes],  \n",
    "    ]\n",
    "    \n",
    "    # Parameter combinations\n",
    "    block_sizes = [64]\n",
    "    max_iters = [50, 100]\n",
    "    learning_rates = [0.01, 0.03]\n",
    "    \n",
    "    # Track best model and score\n",
    "    best_mlp_model = None\n",
    "    best_mlp_val_f1 = 0\n",
    "    best_mlp_params = {}\n",
    "    best_train_predictions = None\n",
    "    best_val_predictions = None\n",
    "    best_mlp_train_f1 = 0\n",
    "    \n",
    "    # Start timing\n",
    "    start_time = time.time()\n",
    "    \n",
    "    print(\"Training MLP models with random search...\")\n",
    "    total_combinations = len(layers_options) * len(block_sizes) * len(max_iters) * len(learning_rates)\n",
    "    current_combination = 0\n",
    "    \n",
    "    # Manually iterate through parameter combinations\n",
    "    for layers in layers_options:\n",
    "        for block_size in block_sizes:\n",
    "            for max_iter in max_iters:\n",
    "                for step_size in learning_rates:\n",
    "                    current_combination += 1\n",
    "                    print(f\"\\rTrying combination {current_combination}/{total_combinations}\", end=\"\")\n",
    "                    \n",
    "                    # Initialize MLP with current parameters\n",
    "                    mlp = MultilayerPerceptronClassifier(\n",
    "                        labelCol=\"label\",\n",
    "                        featuresCol=\"features\",\n",
    "                        layers=layers,\n",
    "                        blockSize=block_size,\n",
    "                        maxIter=max_iter,\n",
    "                        stepSize=step_size,\n",
    "                        seed=42\n",
    "                    )\n",
    "                    \n",
    "                    # Train and evaluate the model\n",
    "                    mlp_model = mlp.fit(train_data)\n",
    "                    train_predictions = mlp_model.transform(train_data)\n",
    "                    val_predictions = mlp_model.transform(val_data)\n",
    "                    mlp_train_f1 = evaluator.evaluate(train_predictions)\n",
    "                    mlp_val_f1 = evaluator.evaluate(val_predictions)\n",
    "                    \n",
    "                    # Update best model if this one is better\n",
    "                    if mlp_val_f1 > best_mlp_val_f1:\n",
    "                        best_mlp_val_f1 = mlp_val_f1\n",
    "                        best_mlp_train_f1 = mlp_train_f1\n",
    "                        best_mlp_model = mlp_model\n",
    "                        best_train_predictions = train_predictions\n",
    "                        best_val_predictions = val_predictions\n",
    "                        best_mlp_params = {\n",
    "                            'layers': layers,\n",
    "                            'blockSize': block_size,\n",
    "                            'maxIter': max_iter,\n",
    "                            'stepSize': step_size\n",
    "                        }\n",
    "    \n",
    "    # End timing\n",
    "    training_time = time.time() - start_time\n",
    "    print(f\"\\nTraining completed in {training_time:.2f} seconds\")\n",
    "    \n",
    "    return best_mlp_model, best_mlp_params, best_train_predictions, best_val_predictions, best_mlp_train_f1, best_mlp_val_f1"
   ]
  },
  {
   "cell_type": "markdown",
   "metadata": {
    "application/vnd.databricks.v1+cell": {
     "cellMetadata": {},
     "inputWidgets": {},
     "nuid": "1155dd5d-20ae-4d8a-9a2a-ebcd311bb0ff",
     "showTitle": false,
     "tableResultSettingsMap": {},
     "title": ""
    }
   },
   "source": []
  },
  {
   "cell_type": "markdown",
   "metadata": {
    "application/vnd.databricks.v1+cell": {
     "cellMetadata": {},
     "inputWidgets": {},
     "nuid": "d617fad7-9262-4f1d-a902-3cd0b6817cb2",
     "showTitle": false,
     "tableResultSettingsMap": {},
     "title": ""
    }
   },
   "source": [
    "### 4.2 Evaluation Functions"
   ]
  },
  {
   "cell_type": "code",
   "execution_count": 0,
   "metadata": {
    "application/vnd.databricks.v1+cell": {
     "cellMetadata": {
      "byteLimit": 2048000,
      "rowLimit": 10000
     },
     "inputWidgets": {},
     "nuid": "ae24e2a2-cd59-48eb-acd4-dd2dbd7bad8a",
     "showTitle": false,
     "tableResultSettingsMap": {},
     "title": ""
    }
   },
   "outputs": [],
   "source": [
    "# Helper function to convert PySpark predictions to numpy arrays for plotting\n",
    "def get_prediction_labels(predictions_df):\n",
    "    \"\"\"Extract prediction and label columns from PySpark DataFrame.\"\"\"\n",
    "    pred_labels = predictions_df.select(\"prediction\", \"label\").toPandas()\n",
    "    y_pred = pred_labels[\"prediction\"].values\n",
    "    y_true = pred_labels[\"label\"].values\n",
    "    return y_pred, y_true\n",
    "\n",
    "# Helper function to get prediction probabilities\n",
    "def get_prediction_probabilities(predictions_df):\n",
    "    \"\"\"Extract probability column from PySpark DataFrame.\"\"\"\n",
    "    prob_df = predictions_df.select(\"probability\").toPandas()\n",
    "    return np.array([x.toArray() for x in prob_df[\"probability\"]])\n",
    "\n",
    "# Helper function to plot confusion matrix\n",
    "def plot_confusion_matrix(y_true, y_pred, title=\"Confusion Matrix\"):\n",
    "    \"\"\"Plot confusion matrix using seaborn.\"\"\"\n",
    "    cm = confusion_matrix(y_true, y_pred)\n",
    "    plt.figure(figsize=(10, 8))\n",
    "    sns.heatmap(cm, annot=True, fmt=\"d\", cmap=\"Blues\", cbar=False)\n",
    "    plt.title(title)\n",
    "    plt.ylabel('True Label')\n",
    "    plt.xlabel('Predicted Label')\n",
    "    plt.show()\n",
    "\n",
    "# Helper function to print classification report\n",
    "def print_classification_report(y_true, y_pred):\n",
    "    \"\"\"Print classification report with precision, recall, and F1 scores.\"\"\"\n",
    "    report = classification_report(y_true, y_pred)\n",
    "    print(\"Classification Report:\")\n",
    "    print(report)\n",
    "\n",
    "# Helper function to plot ROC curve for multi-class\n",
    "\n",
    "def plot_roc_curve(y_true, y_pred_proba, n_classes, model_name=\"Model\"):\n",
    "    \"\"\"Plot ROC curve for multi-class classification and export points to CSV + FileStore.\"\"\"\n",
    "    fpr = dict()\n",
    "    tpr = dict()\n",
    "    roc_auc = dict()\n",
    "    roc_data = []\n",
    "\n",
    "    # One-hot encoding\n",
    "    y_true_onehot = np.zeros((len(y_true), n_classes))\n",
    "    for i in range(len(y_true)):\n",
    "        y_true_onehot[i, int(y_true[i])] = 1\n",
    "\n",
    "    for i in range(n_classes):\n",
    "        fpr[i], tpr[i], _ = roc_curve(y_true_onehot[:, i], y_pred_proba[:, i])\n",
    "        roc_auc[i] = auc(fpr[i], tpr[i])\n",
    "        for j in range(len(fpr[i])):\n",
    "            roc_data.append({\n",
    "                \"Modelo\": model_name,\n",
    "                \"Classe\": i,\n",
    "                \"FPR\": fpr[i][j],\n",
    "                \"TPR\": tpr[i][j]\n",
    "            })\n",
    "\n",
    "\n",
    "    # Plot\n",
    "    plt.figure(figsize=(10, 8))\n",
    "    colors = ['blue', 'red', 'green', 'orange', 'purple']\n",
    "    for i, color in zip(range(n_classes), colors[:n_classes]):\n",
    "        plt.plot(fpr[i], tpr[i], color=color, lw=2,\n",
    "                 label=f'ROC curve of class {i} (area = {roc_auc[i]:0.2f})')\n",
    "    plt.plot([0, 1], [0, 1], 'k--', lw=2)\n",
    "    plt.xlabel('False Positive Rate')\n",
    "    plt.ylabel('True Positive Rate')\n",
    "    plt.title('Multi-class ROC Curve')\n",
    "    plt.legend(loc=\"lower right\")\n",
    "    plt.show()\n",
    "\n",
    "    return np.mean(list(roc_auc.values()))\n",
    "\n",
    "# Helper function to plot precision-recall curve\n",
    "def plot_precision_recall_curve(y_true, y_pred_proba, n_classes, model_name=\"Model\"):\n",
    "    \"\"\"Plot Precision-Recall curve and export points to CSV + FileStore.\"\"\"\n",
    "    precision = dict()\n",
    "    recall = dict()\n",
    "    avg_precision = dict()\n",
    "    pr_data = []\n",
    "\n",
    "    # One-hot encoding\n",
    "    y_true_onehot = np.zeros((len(y_true), n_classes))\n",
    "    for i in range(len(y_true)):\n",
    "        y_true_onehot[i, int(y_true[i])] = 1\n",
    "\n",
    "    for i in range(n_classes):\n",
    "        precision[i], recall[i], _ = precision_recall_curve(y_true_onehot[:, i], y_pred_proba[:, i])\n",
    "        avg_precision[i] = np.mean(precision[i])\n",
    "        for j in range(len(precision[i])):\n",
    "            pr_data.append({\n",
    "                \"Modelo\": model_name,\n",
    "                \"Classe\": i,\n",
    "                \"Recall\": recall[i][j],\n",
    "                \"Precision\": precision[i][j]\n",
    "            })\n",
    "\n",
    "    # Plot\n",
    "    plt.figure(figsize=(10, 8))\n",
    "    colors = ['blue', 'red', 'green', 'orange', 'purple']\n",
    "    for i, color in zip(range(n_classes), colors[:n_classes]):\n",
    "        plt.plot(recall[i], precision[i], color=color, lw=2,\n",
    "                 label=f'Class {i} (avg precision = {avg_precision[i]:0.2f})')\n",
    "    plt.xlabel('Recall')\n",
    "    plt.ylabel('Precision')\n",
    "    plt.title('Multi-class Precision-Recall Curve')\n",
    "    plt.legend(loc=\"best\")\n",
    "    plt.show()\n",
    "\n",
    "    return np.mean(list(avg_precision.values()))\n",
    "\n",
    "def evaluate_model(model_name, val_predictions, num_classes, has_probability=True):\n",
    "    \"\"\"Perform comprehensive evaluation of a model.\n",
    "    \n",
    "    Args:\n",
    "        model_name: Name of the model\n",
    "        val_predictions: PySpark DataFrame with predictions\n",
    "        num_classes: Number of classes\n",
    "        has_probability: Whether the model outputs probability scores\n",
    "        \n",
    "    Returns:\n",
    "        tuple: (y_pred, y_true, y_pred_proba)\n",
    "    \"\"\"\n",
    "    print(f\"\\n--- {model_name} Evaluation ---\")\n",
    "    \n",
    "    # Extract predictions and true labels\n",
    "    y_pred, y_true = get_prediction_labels(val_predictions)\n",
    "    \n",
    "    # Plot confusion matrix\n",
    "    print(\"\\nConfusion Matrix:\")\n",
    "    plot_confusion_matrix(y_true, y_pred, f\"{model_name} Confusion Matrix\")\n",
    "    \n",
    "    # Print classification report\n",
    "    print(f\"\\n{model_name} Classification Report:\")\n",
    "    print_classification_report(y_true, y_pred)\n",
    "    \n",
    "    # If model has probability outputs, plot ROC and PR curves\n",
    "    y_pred_proba = None\n",
    "    if has_probability:\n",
    "        y_pred_proba = get_prediction_probabilities(val_predictions)\n",
    "        \n",
    "        # Plot ROC curve\n",
    "        print(\"\\nROC Curve:\")\n",
    "        auc_score = plot_roc_curve(y_true, y_pred_proba, num_classes, model_name)        \n",
    "        print(f\"{model_name} Average AUC: {auc_score:.4f}\")\n",
    "        \n",
    "        # Plot Precision-Recall curve\n",
    "        print(\"\\nPrecision-Recall Curve:\")\n",
    "        avg_precision = plot_precision_recall_curve(y_true, y_pred_proba, num_classes, model_name)\n",
    "        print(f\"{model_name} Average Precision: {avg_precision:.4f}\")\n",
    "    \n",
    "    return y_pred, y_true, y_pred_proba"
   ]
  },
  {
   "cell_type": "markdown",
   "metadata": {
    "application/vnd.databricks.v1+cell": {
     "cellMetadata": {},
     "inputWidgets": {},
     "nuid": "b475e128-1ec9-41c7-8a59-9a45a2a05d32",
     "showTitle": false,
     "tableResultSettingsMap": {},
     "title": ""
    }
   },
   "source": [
    "## 5. Model Training"
   ]
  },
  {
   "cell_type": "markdown",
   "metadata": {
    "application/vnd.databricks.v1+cell": {
     "cellMetadata": {},
     "inputWidgets": {},
     "nuid": "aeb2e875-4dd2-417f-a487-2a0fed511da7",
     "showTitle": false,
     "tableResultSettingsMap": {},
     "title": ""
    }
   },
   "source": [
    "### 5.4 Multilayer Perceptron (MLP)"
   ]
  },
  {
   "cell_type": "code",
   "execution_count": 0,
   "metadata": {
    "application/vnd.databricks.v1+cell": {
     "cellMetadata": {
      "byteLimit": 2048000,
      "rowLimit": 10000
     },
     "inputWidgets": {},
     "nuid": "19f3a82f-6c5a-477d-ba47-a03e117ff33b",
     "showTitle": false,
     "tableResultSettingsMap": {},
     "title": ""
    }
   },
   "outputs": [
    {
     "output_type": "stream",
     "name": "stdout",
     "output_type": "stream",
     "text": [
      "\n==== Multilayer Perceptron Model ====\nTraining MLP models with random search...\n\rTrying combination 1/8\rTrying combination 2/8\rTrying combination 3/8\rTrying combination 4/8\rTrying combination 5/8\rTrying combination 6/8\rTrying combination 7/8\rTrying combination 8/8\nTraining completed in 2791.39 seconds\n\nBest MLP Parameters:\n  layers: [23, 23, 3]\n  blockSize: 64\n  maxIter: 50\n  stepSize: 0.01\n\nMLP - Training F1 Score: 0.9064\nMLP - Validation F1 Score: 0.8579\n\n--- MLP Evaluation ---\n\nConfusion Matrix:\n"
     ]
    },
    {
     "output_type": "display_data",
     "data": {
      "image/png": "[encoded data removed]"
     },
     "metadata": {
      "application/vnd.databricks.v1+output": {
       "addedWidgets": {},
       "arguments": {},
       "data": "data:image/png;base64,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\n",
       "datasetInfos": [],
       "metadata": {},
       "removedWidgets": [],
       "type": "image"
      }
     },
     "output_type": "display_data"
    },
    {
     "output_type": "stream",
     "name": "stdout",
     "output_type": "stream",
     "text": [
      "\nMLP Classification Report:\n"
     ]
    },
    {
     "output_type": "stream",
     "name": "stderr",
     "output_type": "stream",
     "text": [
      "/databricks/python/lib/python3.9/site-packages/sklearn/metrics/_classification.py:1318: UndefinedMetricWarning: Precision and F-score are ill-defined and being set to 0.0 in labels with no predicted samples. Use `zero_division` parameter to control this behavior.\n  _warn_prf(average, modifier, msg_start, len(result))\n/databricks/python/lib/python3.9/site-packages/sklearn/metrics/_classification.py:1318: UndefinedMetricWarning: Precision and F-score are ill-defined and being set to 0.0 in labels with no predicted samples. Use `zero_division` parameter to control this behavior.\n  _warn_prf(average, modifier, msg_start, len(result))\n"
     ]
    },
    {
     "output_type": "stream",
     "name": "stdout",
     "output_type": "stream",
     "text": [
      "Classification Report:\n              precision    recall  f1-score   support\n\n           0       0.90      1.00      0.95    615738\n           1       0.00      0.00      0.00     25266\n           2       0.00      0.00      0.00     40377\n\n    accuracy                           0.90    681381\n   macro avg       0.30      0.33      0.32    681381\nweighted avg       0.82      0.90      0.86    681381\n\n"
     ]
    },
    {
     "output_type": "stream",
     "name": "stderr",
     "output_type": "stream",
     "text": [
      "/databricks/python/lib/python3.9/site-packages/sklearn/metrics/_classification.py:1318: UndefinedMetricWarning: Precision and F-score are ill-defined and being set to 0.0 in labels with no predicted samples. Use `zero_division` parameter to control this behavior.\n  _warn_prf(average, modifier, msg_start, len(result))\n"
     ]
    }
   ],
   "source": [
    "if RUN_MODELS['mlp']:\n",
    "    print(\"\\n==== Multilayer Perceptron Model ====\")\n",
    "    \n",
    "    # Get number of features\n",
    "    num_features = len(train_data.select(\"features\").first()[0])\n",
    "    \n",
    "    # Perform custom random search for MLP\n",
    "    mlp_best_model, mlp_best_params, mlp_train_preds, mlp_val_preds, mlp_train_f1, mlp_val_f1 = perform_mlp_random_search(\n",
    "        train_data, \n",
    "        val_data, \n",
    "        num_features, \n",
    "        num_classes\n",
    "    )\n",
    "    \n",
    "    # Print best parameters and performance\n",
    "    print(\"\\nBest MLP Parameters:\")\n",
    "    for param, value in mlp_best_params.items():\n",
    "        print(f\"  {param}: {value}\")\n",
    "    \n",
    "    print(f\"\\nMLP - Training F1 Score: {mlp_train_f1:.4f}\")\n",
    "    print(f\"MLP - Validation F1 Score: {mlp_val_f1:.4f}\")\n",
    "    \n",
    "    # Run comprehensive evaluation\n",
    "    mlp_y_pred, mlp_y_true, _ = evaluate_model(\"MLP\", mlp_val_preds, num_classes, has_probability=False)\n",
    "else:\n",
    "    print(\"Skipping MLP\")"
   ]
  },
  {
   "cell_type": "markdown",
   "metadata": {
    "application/vnd.databricks.v1+cell": {
     "cellMetadata": {},
     "inputWidgets": {},
     "nuid": "bee792e3-c5b9-4b40-988d-fcd3de5ee578",
     "showTitle": false,
     "tableResultSettingsMap": {},
     "title": ""
    }
   },
   "source": [
    "PySpark's MultilayerPerceptronClassifier doesn't provide probability outputs by default, only class predictions. This is why:\n",
    "\n",
    "- The code is setting has_probability=False when calling evaluate_model\n",
    "- Within evaluate_model, the ROC and precision-recall curves are only generated when has_probability=True\n",
    "\n",
    "MLP will still be evaluated with confusion matrices and classification reports, but not with the curves that require probability scores."
   ]
  },
  {
   "cell_type": "markdown",
   "metadata": {
    "application/vnd.databricks.v1+cell": {
     "cellMetadata": {},
     "inputWidgets": {},
     "nuid": "0cbddd1d-005e-4810-9acd-4bea998321ba",
     "showTitle": false,
     "tableResultSettingsMap": {},
     "title": ""
    }
   },
   "source": [
    "## 7. Test Set Evaluation"
   ]
  },
  {
   "cell_type": "code",
   "execution_count": 0,
   "metadata": {
    "application/vnd.databricks.v1+cell": {
     "cellMetadata": {
      "byteLimit": 2048000,
      "rowLimit": 10000
     },
     "inputWidgets": {},
     "nuid": "833f258a-d4ea-4bcb-8318-5cdcd7dc44d8",
     "showTitle": false,
     "tableResultSettingsMap": {},
     "title": ""
    }
   },
   "outputs": [
    {
     "output_type": "stream",
     "name": "stdout",
     "output_type": "stream",
     "text": [
      "Best Model: MLP with Validation F1: 0.8579\nTest F1 Score with MLP: 0.8027\n\n--- MLP Test Set Evaluation ---\n\n--- MLP (Test) Evaluation ---\n\nConfusion Matrix:\n"
     ]
    },
    {
     "output_type": "display_data",
     "data": {
      "image/png": "[encoded data removed]"
     },
     "metadata": {
      "application/vnd.databricks.v1+output": {
       "addedWidgets": {},
       "arguments": {},
       "data": "data:image/png;base64,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\n",
       "datasetInfos": [],
       "metadata": {},
       "removedWidgets": [],
       "type": "image"
      }
     },
     "output_type": "display_data"
    },
    {
     "output_type": "stream",
     "name": "stdout",
     "output_type": "stream",
     "text": [
      "\nMLP (Test) Classification Report:\n"
     ]
    },
    {
     "output_type": "stream",
     "name": "stderr",
     "output_type": "stream",
     "text": [
      "/databricks/python/lib/python3.9/site-packages/sklearn/metrics/_classification.py:1318: UndefinedMetricWarning: Precision and F-score are ill-defined and being set to 0.0 in labels with no predicted samples. Use `zero_division` parameter to control this behavior.\n  _warn_prf(average, modifier, msg_start, len(result))\n/databricks/python/lib/python3.9/site-packages/sklearn/metrics/_classification.py:1318: UndefinedMetricWarning: Precision and F-score are ill-defined and being set to 0.0 in labels with no predicted samples. Use `zero_division` parameter to control this behavior.\n  _warn_prf(average, modifier, msg_start, len(result))\n"
     ]
    },
    {
     "output_type": "stream",
     "name": "stdout",
     "output_type": "stream",
     "text": [
      "Classification Report:\n              precision    recall  f1-score   support\n\n           0       0.87      1.00      0.93    589564\n           1       0.00      0.00      0.00     25185\n           2       0.00      0.00      0.00     66646\n\n    accuracy                           0.87    681395\n   macro avg       0.29      0.33      0.31    681395\nweighted avg       0.75      0.87      0.80    681395\n\n"
     ]
    },
    {
     "output_type": "stream",
     "name": "stderr",
     "output_type": "stream",
     "text": [
      "/databricks/python/lib/python3.9/site-packages/sklearn/metrics/_classification.py:1318: UndefinedMetricWarning: Precision and F-score are ill-defined and being set to 0.0 in labels with no predicted samples. Use `zero_division` parameter to control this behavior.\n  _warn_prf(average, modifier, msg_start, len(result))\n"
     ]
    }
   ],
   "source": [
    "if model_names:  \n",
    "    # Find the best model based on validation F1 scores\n",
    "    best_model_index = val_scores.index(max(val_scores))\n",
    "    best_model_name = model_names[best_model_index]\n",
    "    print(f\"Best Model: {best_model_name} with Validation F1: {max(val_scores):.4f}\")\n",
    "    \n",
    "    # Get the corresponding model object\n",
    "    if best_model_name == \"Logistic Regression\" and RUN_MODELS['logistic_regression']:\n",
    "        best_model = lr_best_model\n",
    "        has_probability = True\n",
    "    elif best_model_name == \"Random Forest\" and RUN_MODELS['random_forest']:\n",
    "        best_model = rf_best_model\n",
    "        has_probability = True\n",
    "    elif best_model_name == \"GBDT\" and RUN_MODELS['gbdt']:\n",
    "        best_model = gbt_best_model\n",
    "        has_probability = False\n",
    "    elif best_model_name == \"MLP\" and RUN_MODELS['mlp']:\n",
    "        best_model = mlp_best_model\n",
    "        has_probability = False\n",
    "    elif best_model_name == \"XGBoost\" and RUN_MODELS['xgboost'] and xgboost_available:\n",
    "        best_model = xgb_model\n",
    "        has_probability = True\n",
    "    \n",
    "    # Special handling for XGBoost model (scikit-learn) vs Spark ML models\n",
    "    if best_model_name == \"XGBoost\":\n",
    "        # Convert test data to pandas/numpy for scikit-learn\n",
    "        test_pandas = test_data.toPandas()\n",
    "        X_test = np.array([x.toArray() for x in test_pandas[\"features\"]])\n",
    "        y_test = test_pandas[\"label\"].values\n",
    "        \n",
    "        # Make predictions\n",
    "        test_pred = best_model.predict(X_test)\n",
    "        \n",
    "        # Calculate F1 score\n",
    "        test_f1 = f1_score(y_test, test_pred, average='weighted')\n",
    "        \n",
    "        # Create UDF for predictions to create Spark DataFrame\n",
    "        predict_udf = udf(lambda features: float(best_model.predict(np.array([features.toArray()]))[0]), DoubleType())\n",
    "        \n",
    "        def predict_proba_udf_generator():\n",
    "            def predict_proba_udf(features):\n",
    "                proba = best_model.predict_proba(np.array([features.toArray()]))[0]\n",
    "                return [float(p) for p in proba]\n",
    "            return udf(predict_proba_udf, ArrayType(FloatType()))\n",
    "        \n",
    "        predict_proba_udf = predict_proba_udf_generator()\n",
    "        \n",
    "        # Apply UDFs to create prediction DataFrame\n",
    "        test_predictions = test_data.withColumn(\"prediction\", predict_udf(\"features\"))\n",
    "        test_predictions = test_predictions.withColumn(\"probability\", predict_proba_udf(\"features\"))\n",
    "    else:\n",
    "        # For Spark ML models\n",
    "        # Make predictions on the test set\n",
    "        test_predictions = best_model.transform(test_data)\n",
    "        \n",
    "        # Initialize the evaluator for F1 score\n",
    "        evaluator = MulticlassClassificationEvaluator(labelCol='label', predictionCol='prediction', metricName='f1')\n",
    "        \n",
    "        # Evaluate on test set\n",
    "        test_f1 = evaluator.evaluate(test_predictions)\n",
    "    \n",
    "    print(f\"Test F1 Score with {best_model_name}: {test_f1:.4f}\")\n",
    "    \n",
    "    # Run comprehensive evaluation on test set\n",
    "    print(f\"\\n--- {best_model_name} Test Set Evaluation ---\")\n",
    "    test_y_pred, test_y_true, test_y_pred_proba = evaluate_model(\n",
    "        f\"{best_model_name} (Test)\", \n",
    "        test_predictions, \n",
    "        num_classes, \n",
    "        has_probability=has_probability\n",
    "    )\n",
    "else:\n",
    "    print(\"No models were run, skipping test set evaluation.\")"
   ]
  },
  {
   "cell_type": "markdown",
   "metadata": {
    "application/vnd.databricks.v1+cell": {
     "cellMetadata": {},
     "inputWidgets": {},
     "nuid": "fec6ddb4-9fa4-41d2-bd56-46b79153458b",
     "showTitle": false,
     "tableResultSettingsMap": {},
     "title": ""
    }
   },
   "source": [
    "## 8. Conclusion"
   ]
  },
  {
   "cell_type": "markdown",
   "metadata": {
    "application/vnd.databricks.v1+cell": {
     "cellMetadata": {},
     "inputWidgets": {},
     "nuid": "bdc03c89-2567-4428-abe7-01924232bf6d",
     "showTitle": false,
     "tableResultSettingsMap": {},
     "title": ""
    }
   },
   "source": [
    "In this notebook, we've implemented a modular framework for training and evaluating multiple classification models using PySpark with random search hyperparameter optimization.\n",
    "\n",
    "The key features of this framework are:\n",
    "\n",
    "1. **Flexible Model Selection**: Users can easily select which models to run by setting configuration flags\n",
    "\n",
    "2. **Modular Design**:\n",
    "   - Random search functionality is contained in reusable functions\n",
    "   - Evaluation metrics and visualizations are handled by dedicated functions\n",
    "   - Each model follows the same workflow structure\n",
    "\n",
    "3. **Comprehensive Evaluation**:\n",
    "   - F1 scores for both training and validation data\n",
    "   - Confusion matrices\n",
    "   - Detailed classification reports \n",
    "   - ROC curves and AUC values (where applicable)\n",
    "   - Precision-Recall curves (where applicable)\n",
    "\n",
    "This framework makes it easy to run experiments across different machines and with different team members by simply configuring which models to run at the beginning of the notebook."
   ]
  },
  {
   "cell_type": "code",
   "execution_count": 0,
   "metadata": {
    "application/vnd.databricks.v1+cell": {
     "cellMetadata": {},
     "inputWidgets": {},
     "nuid": "ddfa1f78-83ff-466b-adfd-ffd1f595d10e",
     "showTitle": false,
     "tableResultSettingsMap": {},
     "title": ""
    }
   },
   "outputs": [],
   "source": []
  }
 ],
 "metadata": {
  "application/vnd.databricks.v1+notebook": {
   "computePreferences": null,
   "dashboards": [],
   "environmentMetadata": null,
   "inputWidgetPreferences": null,
   "language": "python",
   "notebookMetadata": {
    "pythonIndentUnit": 4
   },
   "notebookName": "05_model_multilayer_perceptron_final",
   "widgets": {}
  },
  "language_info": {
   "name": "python"
  }
 },
 "nbformat": 4,
 "nbformat_minor": 0
}