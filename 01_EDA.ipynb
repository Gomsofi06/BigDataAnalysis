{
 "cells": [
  {
   "cell_type": "markdown",
   "metadata": {},
   "source": [
    "<h1 style=\"text-align: center;\">Big Data Analysis Project</h1>\n",
    "\n",
    "** **\n",
    "\n",
    "## <p style=\"text-align: center;\"><i>01 - Exploratory Data Analysis</i></p>\n",
    "\n",
    "** **\n",
    "<p style=\"text-align: center;\">\n",
    "David Cascão - 20240851 <br>\n",
    "Jan-Louis Schneider - 20240506 <br>\n",
    "Jorge Cordeiro - 20240594 <br>\n",
    "Marta Boavida - 20240519 <br>\n",
    "Sofia Gomes - 20240848\n",
    "</p>\n"
   ]
  },
  {
   "cell_type": "markdown",
   "metadata": {},
   "source": [
    "## <span style=\"color:#FF007F\"> Description of the project  </span> \n",
    "ESCREVER ALGO AQUI"
   ]
  },
  {
   "cell_type": "markdown",
   "metadata": {},
   "source": [
    "## <span style=\"color:#FF007F\">  Notebook  </span> \n",
    "ESCREVER ALGO AQUI"
   ]
  },
  {
   "cell_type": "markdown",
   "metadata": {},
   "source": [
    "## <span style=\"color:#FF007F\"> Table of Contents </span>\n",
    "\n",
    "<a class=\"anchor\" id=\"top\"></a>\n",
    "\n",
    "1. [Import Libraries](#one-bullet) <br>\n",
    "\n",
    "2. [Import Datasets](#two-bullet) <br>\n",
    "\n",
    "3. [Initial Exploration](#three-bullet) <br>\n",
    "\n",
    "4. [Data Types](#four-bullet) <br>\n",
    "\n",
    "5. [Duplicates](#five-bullet) <br>\n",
    "\n",
    "6. [Missing Values](#six-bullet) <br>\n",
    "\n",
    "7. [Exploring Features](#seven-bullet) <br>\n",
    "    7.1 [Target Distribution](#seven-one-bullet) <br>\n",
    "    7.2 [Numerical Variables](#seven-two-bullet) <br>\n",
    "    7.3 [Categorical Variables](#seven-three-bullet) <br>\n",
    "    7.4 [Date Variables](#seven-four-bullet) <br>\n",
    "    \n",
    "8. [Export Datasets](#eight-bullet) <br> \n"
   ]
  },
  {
   "cell_type": "markdown",
   "metadata": {},
   "source": [
    "<a class=\"anchor\" id=\"one-bullet\"></a>\n",
    "\n",
    "## <span style=\"color:#FF007F\"> 1. Import Libraries</span>\n",
    "\n",
    "The first step is to import the necessary libraries."
   ]
  },
  {
   "cell_type": "code",
   "execution_count": null,
   "metadata": {},
   "outputs": [],
   "source": [
    "import pandas as pd\n",
    "import numpy as np  "
   ]
  },
  {
   "cell_type": "markdown",
   "metadata": {},
   "source": [
    "<a class=\"anchor\" id=\"two-bullet\"> \n",
    "\n",
    "## <span style=\"color:#FF007F\"> 2. Import Datasets</span> \n",
    "\n",
    "<a href=\"#top\">Top &#129033;</a>\n",
    "\n",
    "Next, we start by importing the training dataset."
   ]
  },
  {
   "cell_type": "code",
   "execution_count": null,
   "metadata": {},
   "outputs": [],
   "source": [
    "train_df = pd.read_csv('./')\n",
    "train_df"
   ]
  },
  {
   "cell_type": "markdown",
   "metadata": {},
   "source": [
    "Following, we import the test dataset so that the simple transformations an imputations can be done in both datasets, while avoiding data leakage."
   ]
  },
  {
   "cell_type": "code",
   "execution_count": null,
   "metadata": {},
   "outputs": [],
   "source": [
    "test_df = pd.read_csv('./', index_col='')\n",
    "test_df"
   ]
  },
  {
   "cell_type": "markdown",
   "metadata": {},
   "source": [
    "<a class=\"anchor\" id=\"three-bullet\"> \n",
    "\n",
    "## <span style=\"color:#FF007F\"> 3. Initial Exploration</span> \n",
    "\n",
    "<a href=\"#top\">Top &#129033;</a>"
   ]
  },
  {
   "cell_type": "markdown",
   "metadata": {},
   "source": [
    "In order to better understand the dataset, we started by exploring it."
   ]
  }
 ],
 "metadata": {
  "kernelspec": {
   "display_name": "BigDataAnalytics",
   "language": "python",
   "name": "python3"
  },
  "language_info": {
   "codemirror_mode": {
    "name": "ipython",
    "version": 3
   },
   "file_extension": ".py",
   "mimetype": "text/x-python",
   "name": "python",
   "nbconvert_exporter": "python",
   "pygments_lexer": "ipython3",
   "version": "3.12.9"
  }
 },
 "nbformat": 4,
 "nbformat_minor": 2
}
